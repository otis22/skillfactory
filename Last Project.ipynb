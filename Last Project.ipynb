{
 "cells": [
  {
   "cell_type": "markdown",
   "metadata": {},
   "source": [
    "## Цель\n",
    "\n",
    "Для проекта \"Если быть точным\" https://tochno.st/  \n",
    "\n",
    "* Увеличить сумму ежемесячных пожертвований на «Если быть точным» до 60 000 рублей.\n",
    "* Увеличить количество заявок на верификацию НКО до 32."
   ]
  },
  {
   "cell_type": "markdown",
   "metadata": {},
   "source": [
    "## Гипотеза\n",
    "\n",
    "\n",
    "Используя методологию приоритезации гипотез ICE мы выбрали гипотезу, по увеличению конверсии из посещений в Email.\n",
    "\n",
    "Конверсия за последние 3 месяца составляет 0,85 %\n",
    "\n",
    "```\n",
    "Если видоизменить сайт: добавить всплывающее окно с предложением оформить e-mail рассылку, сверху страницы сайта закрепить кнопку с предложением оформить e-mail рассылку и изменить дизайн самой формы подписки, то конверсия в подписку возрастет на 150%\n",
    "```\n",
    "\n",
    "Используя калькулятор https://www.evanmiller.org/ab-testing/sample-size.html мы расчитали, чтобы подтвердить результат эксперимента нам нужно 1000 пользователей в каждом из вариантов.\n",
    "\n",
    "Чтобы получить выборку такого размера на этом сайте мы должны проводить эксперимент 2 недели. \n",
    "\n",
    "Эксперимент поставлен с помощью Google Optimize.\n",
    "\n"
   ]
  },
  {
   "cell_type": "code",
   "execution_count": 44,
   "metadata": {},
   "outputs": [
    {
     "name": "stdout",
     "output_type": "stream",
     "text": [
      "Данные эксперимента загружены\n"
     ]
    },
    {
     "data": {
      "text/html": [
       "<div>\n",
       "<style scoped>\n",
       "    .dataframe tbody tr th:only-of-type {\n",
       "        vertical-align: middle;\n",
       "    }\n",
       "\n",
       "    .dataframe tbody tr th {\n",
       "        vertical-align: top;\n",
       "    }\n",
       "\n",
       "    .dataframe thead th {\n",
       "        text-align: right;\n",
       "    }\n",
       "</style>\n",
       "<table border=\"1\" class=\"dataframe\">\n",
       "  <thead>\n",
       "    <tr style=\"text-align: right;\">\n",
       "      <th></th>\n",
       "      <th>Day Index</th>\n",
       "      <th>Users</th>\n",
       "      <th>Email Subscriptions</th>\n",
       "      <th>Group Type</th>\n",
       "    </tr>\n",
       "  </thead>\n",
       "  <tbody>\n",
       "    <tr>\n",
       "      <th>0</th>\n",
       "      <td>08/07/20</td>\n",
       "      <td>170</td>\n",
       "      <td>1</td>\n",
       "      <td>control</td>\n",
       "    </tr>\n",
       "    <tr>\n",
       "      <th>1</th>\n",
       "      <td>08/07/20</td>\n",
       "      <td>142</td>\n",
       "      <td>3</td>\n",
       "      <td>test</td>\n",
       "    </tr>\n",
       "    <tr>\n",
       "      <th>2</th>\n",
       "      <td>09/07/20</td>\n",
       "      <td>100</td>\n",
       "      <td>1</td>\n",
       "      <td>control</td>\n",
       "    </tr>\n",
       "    <tr>\n",
       "      <th>3</th>\n",
       "      <td>09/07/20</td>\n",
       "      <td>95</td>\n",
       "      <td>5</td>\n",
       "      <td>test</td>\n",
       "    </tr>\n",
       "    <tr>\n",
       "      <th>4</th>\n",
       "      <td>10/07/20</td>\n",
       "      <td>170</td>\n",
       "      <td>2</td>\n",
       "      <td>control</td>\n",
       "    </tr>\n",
       "  </tbody>\n",
       "</table>\n",
       "</div>"
      ],
      "text/plain": [
       "  Day Index  Users  Email Subscriptions Group Type\n",
       "0  08/07/20    170                    1    control\n",
       "1  08/07/20    142                    3       test\n",
       "2  09/07/20    100                    1    control\n",
       "3  09/07/20     95                    5       test\n",
       "4  10/07/20    170                    2    control"
      ]
     },
     "execution_count": 44,
     "metadata": {},
     "output_type": "execute_result"
    }
   ],
   "source": [
    "import pandas as pd\n",
    "import numpy as np\n",
    "from tqdm import tqdm\n",
    "from random import shuffle\n",
    "from statsmodels.stats.weightstats import ztest\n",
    "from matplotlib import pyplot\n",
    "from scipy.stats import shapiro\n",
    "from scipy.stats import boxcox\n",
    "\n",
    "data = pd.read_csv(\"PA_15_ab_test_results.csv\")\n",
    "print(\"Данные эксперимента загружены\")\n",
    "data.head(5)"
   ]
  },
  {
   "cell_type": "code",
   "execution_count": 45,
   "metadata": {},
   "outputs": [
    {
     "name": "stdout",
     "output_type": "stream",
     "text": [
      "Всего пользователей в эксперименте: 5139\n",
      "Конверсия в тестовой группе выше на: 2.53\n",
      "Сводка по эксперименту:\n"
     ]
    },
    {
     "data": {
      "text/html": [
       "<div>\n",
       "<style scoped>\n",
       "    .dataframe tbody tr th:only-of-type {\n",
       "        vertical-align: middle;\n",
       "    }\n",
       "\n",
       "    .dataframe tbody tr th {\n",
       "        vertical-align: top;\n",
       "    }\n",
       "\n",
       "    .dataframe thead th {\n",
       "        text-align: right;\n",
       "    }\n",
       "</style>\n",
       "<table border=\"1\" class=\"dataframe\">\n",
       "  <thead>\n",
       "    <tr style=\"text-align: right;\">\n",
       "      <th></th>\n",
       "      <th>Group Type</th>\n",
       "      <th>Users</th>\n",
       "      <th>Email Subscriptions</th>\n",
       "      <th>conversion</th>\n",
       "    </tr>\n",
       "  </thead>\n",
       "  <tbody>\n",
       "    <tr>\n",
       "      <th>0</th>\n",
       "      <td>control</td>\n",
       "      <td>2476</td>\n",
       "      <td>18</td>\n",
       "      <td>0.726979</td>\n",
       "    </tr>\n",
       "    <tr>\n",
       "      <th>1</th>\n",
       "      <td>test</td>\n",
       "      <td>2663</td>\n",
       "      <td>49</td>\n",
       "      <td>1.840030</td>\n",
       "    </tr>\n",
       "  </tbody>\n",
       "</table>\n",
       "</div>"
      ],
      "text/plain": [
       "  Group Type  Users  Email Subscriptions  conversion\n",
       "0    control   2476                   18    0.726979\n",
       "1       test   2663                   49    1.840030"
      ]
     },
     "execution_count": 45,
     "metadata": {},
     "output_type": "execute_result"
    }
   ],
   "source": [
    "grouped = data.groupby('Group Type').sum().reset_index()\n",
    "data['conversion'] = data['Email Subscriptions']*100/data['Users']\n",
    "grouped['conversion'] = grouped['Email Subscriptions']*100/grouped['Users']\n",
    "all_users = data['Users'].sum()\n",
    "control_users = data[data['Group Type'] == 'control']['Users'].sum()\n",
    "test_users = data[data['Group Type'] == 'test']['Users'].sum()\n",
    "control_subscribers = data[data['Group Type'] == 'control']['Email Subscriptions'].sum()\n",
    "test_subscribers = data[data['Group Type'] == 'test']['Email Subscriptions'].sum()\n",
    "control_cr = control_subscribers/control_users\n",
    "test_cr = test_subscribers/test_users\n",
    "\n",
    "\n",
    "print('Всего пользователей в эксперименте:', all_users)\n",
    "print('Конверсия в тестовой группе выше на:', round(test_cr/control_cr, 2))\n",
    "print('Сводка по эксперименту:')\n",
    "grouped"
   ]
  },
  {
   "cell_type": "markdown",
   "metadata": {},
   "source": [
    "## Считаем доверительный интервал\n",
    "\n",
    "Считаем при помощи калькулятора https://sample-size.net/confidence-interval-proportion/\n",
    "\n",
    "### Для контрольной группы\n",
    "\n",
    "Proportion of positive results = P = x/N = 0.0073\n",
    "\n",
    "Lower bound = 0.0043\n",
    "\n",
    "Upper bound = 0.0115\n",
    "\n",
    "### Для тестовой группы \n",
    "\n",
    "Proportion of positive results = P = x/N = 0.0184\n",
    "\n",
    "Lower bound = 0.0136\n",
    "\n",
    "Upper bound = 0.0243\n",
    "\n",
    "Если использовать нижнюю границу интервала для тестовой группы и верхнюю границу для контрольной мы получаем рост в 118%, это меньше чем 150%, но рост виден. Попробуем использовать другие методы для подтверждения нашей гипотезы.\n"
   ]
  },
  {
   "cell_type": "code",
   "execution_count": 46,
   "metadata": {},
   "outputs": [
    {
     "name": "stdout",
     "output_type": "stream",
     "text": [
      "statistic: -3.518247192651825\n",
      "p_value: 0.0004344075051461056\n"
     ]
    }
   ],
   "source": [
    "def generate_zdata(sample_size, converted_size):\n",
    "    res = [1]*converted_size + [0]*(sample_size - converted_size)\n",
    "    shuffle(res)\n",
    "    return res\n",
    "\n",
    "statistic, p_value = ztest(generate_zdata(control_users, control_subscribers),\n",
    "                          generate_zdata(test_users, test_subscribers))\n",
    "\n",
    "print(f\"statistic: {statistic}\")\n",
    "print(f\"p_value: {p_value}\")\n"
   ]
  },
  {
   "cell_type": "markdown",
   "metadata": {},
   "source": [
    "## Z Оценка\n",
    "\n",
    "Информация о Z оценке.\n",
    "\n",
    "https://desktop.arcgis.com/ru/arcmap/10.3/tools/spatial-statistics-toolbox/what-is-a-z-score-what-is-a-p-value.htm\n",
    "\n",
    "Чтобы подтвердить или опровергнуть гипотезу я воспользовался методом z оценки. Для этого я преобразовал данные в списки бинарных данных.\n",
    "\n",
    "Я получил высокое значение статистики(3,52) и крайне низкий p-value(0.0004). \n",
    "Значение p-value позволяет нам отвергнуть нулевую гипотезу, с очень высокой долей вероятности наблюдаемая разница в цифрах - это не результат случайности.\n",
    "\n",
    "Для большей уверенности проведем исследование распределения на нормальность и применим соответсвующие методики для оценки."
   ]
  },
  {
   "cell_type": "code",
   "execution_count": 47,
   "metadata": {},
   "outputs": [
    {
     "name": "stdout",
     "output_type": "stream",
     "text": [
      "statistic: -3.518247192651825\n",
      "p_value: 0.0004344075051461056\n"
     ]
    }
   ],
   "source": [
    "conv1 = [1]*18 + [0]*(2476-18)\n",
    "conv2 = [1]*49 + [0]*(2663 - 49)\n",
    "\n",
    "from statsmodels.stats.weightstats import ztest\n",
    "statistic, p_value = ztest(conv1, conv2)\n",
    "\n",
    "print(f\"statistic: {statistic}\")\n",
    "print(f\"p_value: {p_value}\")"
   ]
  },
  {
   "cell_type": "code",
   "execution_count": 48,
   "metadata": {},
   "outputs": [
    {
     "data": {
      "image/png": "[encoded data removed]",
      "text/plain": [
       "<Figure size 432x288 with 1 Axes>"
      ]
     },
     "metadata": {
      "needs_background": "light"
     },
     "output_type": "display_data"
    },
    {
     "name": "stdout",
     "output_type": "stream",
     "text": [
      "stat=0.886634349822998, p-value=0.005643473006784916\n",
      "Можно отвергнуть гипотезу о нормальном распределении, распределение не Gaussian\n"
     ]
    }
   ],
   "source": [
    "pyplot.hist(data['conversion'], bins=10)\n",
    "pyplot.show()\n",
    "\n",
    "stat, p_value = shapiro(data['conversion'])\n",
    "\n",
    "print(f'stat={stat}, p-value={p_value}')\n",
    "alpha = 0.05\n",
    "if p_value > alpha:\n",
    "    print('Нельзя отвергнуть гипотезу о нормальном распределении, распределение Gaussian')\n",
    "else:\n",
    "    print('Можно отвергнуть гипотезу о нормальном распределении, распределение не Gaussian')"
   ]
  },
  {
   "cell_type": "markdown",
   "metadata": {},
   "source": [
    "## Бутстреп сэмплирование"
   ]
  },
  {
   "cell_type": "code",
   "execution_count": 51,
   "metadata": {},
   "outputs": [
    {
     "name": "stderr",
     "output_type": "stream",
     "text": [
      "100%|██████████| 10000/10000 [00:00<00:00, 21918.17it/s]\n"
     ]
    },
    {
     "data": {
      "image/png": "[encoded data removed]",
      "text/plain": [
       "<Figure size 432x288 with 1 Axes>"
      ]
     },
     "metadata": {
      "needs_background": "light"
     },
     "output_type": "display_data"
    }
   ],
   "source": [
    "np.random.seed(1)\n",
    "all_values_test =  data[data['Group Type'] == 'test']['conversion'].values.tolist()\n",
    "all_values_control =  data[data['Group Type'] == 'control']['conversion'].values.tolist()\n",
    "\n",
    "sample_mean_test = []\n",
    "sample_mean_control = []\n",
    "\n",
    "for i in tqdm(range(10000)):\n",
    "    sample_n = np.random.choice(all_values_test, size=100)\n",
    "    sample_mean_test.append(sample_n.mean())\n",
    "\n",
    "    sample_n = np.random.choice(all_values_control, size=100)\n",
    "    sample_mean_control.append(sample_n.mean())\n",
    "\n",
    "\n",
    "pyplot.hist(sample_mean_test, bins=20)\n",
    "pyplot.hist(sample_mean_control, bins=20)\n",
    "pyplot.show()"
   ]
  },
  {
   "cell_type": "markdown",
   "metadata": {},
   "source": [
    "## Вывод по бутстреп сэмплированию\n",
    "\n",
    "Поскольку мы отвергли нормальность распределения данных. Был использован метод бутсреп семплирования для сравнения выборок. Суть метода заключается в том, что мы многократно из выборки случайным образовым выбираем данные и усредняем их. Создается выборка из средних многократных выборок. \n",
    "\n",
    "В такой выборке значения будут стремиться к истинному среднему всей совокнупности. \n",
    "\n",
    "\n",
    "Из графиков видно, что распределение в разных сэмплах стремится к разным средним величинам. \n",
    "\n",
    "Гипотезу по улучшению конверсии мы подтвердии."
   ]
  },
  {
   "cell_type": "markdown",
   "metadata": {},
   "source": [
    "# Вывод\n",
    "\n",
    "Гипотеза по улучшению конверсии мы подтвердили. Рекоммендуем раскатывать результа на всю совокупность.\n",
    "\n",
    "Исходя из доверительного интервала\n",
    "\n",
    "Lower bound = 0.0136\n",
    "\n",
    "Upper bound = 0.0243\n",
    "\n",
    "и конверсии за предыдущий период в 0,0085% можем предположить:\n",
    "\n",
    "\n",
    "Минимальный возможный рост конверсии: 1,6 раз\n",
    "Максимальный возможный рост конверсии: 2,86 раз"
   ]
  },
  {
   "cell_type": "markdown",
   "metadata": {},
   "source": [
    "## Вопросы ментору.\n",
    "\n",
    "1. Как понять когда остановится в подтверждениях? Достаточно ли p_value, когда нужно считать дальше? \n",
    "2. Если математика и статистика - мое слабое место. Как максимально быстро развить эти навыки?\n",
    "3. Есть онлайн сервис имеет 90 регистраций в месяц, конверсия в 30 оплат. Есть триальный период. На триале около 100 пользователей одновременно. Как можно проводить а/б тесты в таких условиях? Как ставить эксперименты? Нормально ли сравнивать данные с прошлыми периодами?\n",
    "4. Где найти ментора, с которым можно советоваться по своему проекту и давать на ревью результаты работы?"
   ]
  },
  {
   "cell_type": "code",
   "execution_count": null,
   "metadata": {},
   "outputs": [],
   "source": []
  }
 ],
 "metadata": {
  "kernelspec": {
   "display_name": "Python 3",
   "language": "python",
   "name": "python3"
  },
  "language_info": {
   "codemirror_mode": {
    "name": "ipython",
    "version": 3
   },
   "file_extension": ".py",
   "mimetype": "text/x-python",
   "name": "python",
   "nbconvert_exporter": "python",
   "pygments_lexer": "ipython3",
   "version": "3.8.2"
  }
 },
 "nbformat": 4,
 "nbformat_minor": 4
}
