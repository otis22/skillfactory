{
 "cells": [
  {
   "cell_type": "code",
   "execution_count": 3,
   "metadata": {},
   "outputs": [
    {
     "data": {
      "text/html": [
       "<div>\n",
       "<style scoped>\n",
       "    .dataframe tbody tr th:only-of-type {\n",
       "        vertical-align: middle;\n",
       "    }\n",
       "\n",
       "    .dataframe tbody tr th {\n",
       "        vertical-align: top;\n",
       "    }\n",
       "\n",
       "    .dataframe thead th {\n",
       "        text-align: right;\n",
       "    }\n",
       "</style>\n",
       "<table border=\"1\" class=\"dataframe\">\n",
       "  <thead>\n",
       "    <tr style=\"text-align: right;\">\n",
       "      <th></th>\n",
       "      <th>date</th>\n",
       "      <th>event</th>\n",
       "      <th>purchase_sum</th>\n",
       "      <th>os_name</th>\n",
       "      <th>device_id</th>\n",
       "      <th>gender</th>\n",
       "      <th>city</th>\n",
       "      <th>utm_source</th>\n",
       "    </tr>\n",
       "  </thead>\n",
       "  <tbody>\n",
       "    <tr>\n",
       "      <th>0</th>\n",
       "      <td>2020-01-01</td>\n",
       "      <td>app_start</td>\n",
       "      <td>NaN</td>\n",
       "      <td>android</td>\n",
       "      <td>669460</td>\n",
       "      <td>female</td>\n",
       "      <td>Moscow</td>\n",
       "      <td>-</td>\n",
       "    </tr>\n",
       "    <tr>\n",
       "      <th>1</th>\n",
       "      <td>2020-01-01</td>\n",
       "      <td>app_start</td>\n",
       "      <td>NaN</td>\n",
       "      <td>ios</td>\n",
       "      <td>833621</td>\n",
       "      <td>male</td>\n",
       "      <td>Moscow</td>\n",
       "      <td>vk_ads</td>\n",
       "    </tr>\n",
       "    <tr>\n",
       "      <th>2</th>\n",
       "      <td>2020-01-01</td>\n",
       "      <td>app_start</td>\n",
       "      <td>NaN</td>\n",
       "      <td>android</td>\n",
       "      <td>1579237</td>\n",
       "      <td>male</td>\n",
       "      <td>Saint-Petersburg</td>\n",
       "      <td>referal</td>\n",
       "    </tr>\n",
       "    <tr>\n",
       "      <th>3</th>\n",
       "      <td>2020-01-01</td>\n",
       "      <td>app_start</td>\n",
       "      <td>NaN</td>\n",
       "      <td>android</td>\n",
       "      <td>1737182</td>\n",
       "      <td>female</td>\n",
       "      <td>Moscow</td>\n",
       "      <td>facebook_ads</td>\n",
       "    </tr>\n",
       "    <tr>\n",
       "      <th>4</th>\n",
       "      <td>2020-01-01</td>\n",
       "      <td>app_start</td>\n",
       "      <td>NaN</td>\n",
       "      <td>ios</td>\n",
       "      <td>4029024</td>\n",
       "      <td>female</td>\n",
       "      <td>Moscow</td>\n",
       "      <td>facebook_ads</td>\n",
       "    </tr>\n",
       "    <tr>\n",
       "      <th>5</th>\n",
       "      <td>2020-01-01</td>\n",
       "      <td>app_start</td>\n",
       "      <td>NaN</td>\n",
       "      <td>android</td>\n",
       "      <td>5148476</td>\n",
       "      <td>male</td>\n",
       "      <td>Saint-Petersburg</td>\n",
       "      <td>-</td>\n",
       "    </tr>\n",
       "    <tr>\n",
       "      <th>6</th>\n",
       "      <td>2020-01-01</td>\n",
       "      <td>app_start</td>\n",
       "      <td>NaN</td>\n",
       "      <td>android</td>\n",
       "      <td>8383386</td>\n",
       "      <td>female</td>\n",
       "      <td>Saint-Petersburg</td>\n",
       "      <td>vk_ads</td>\n",
       "    </tr>\n",
       "    <tr>\n",
       "      <th>7</th>\n",
       "      <td>2020-01-01</td>\n",
       "      <td>app_start</td>\n",
       "      <td>NaN</td>\n",
       "      <td>android</td>\n",
       "      <td>8581267</td>\n",
       "      <td>female</td>\n",
       "      <td>Saint-Petersburg</td>\n",
       "      <td>google_ads</td>\n",
       "    </tr>\n",
       "    <tr>\n",
       "      <th>8</th>\n",
       "      <td>2020-01-01</td>\n",
       "      <td>app_start</td>\n",
       "      <td>NaN</td>\n",
       "      <td>ios</td>\n",
       "      <td>10144701</td>\n",
       "      <td>female</td>\n",
       "      <td>Moscow</td>\n",
       "      <td>-</td>\n",
       "    </tr>\n",
       "    <tr>\n",
       "      <th>9</th>\n",
       "      <td>2020-01-01</td>\n",
       "      <td>app_start</td>\n",
       "      <td>NaN</td>\n",
       "      <td>ios</td>\n",
       "      <td>10274354</td>\n",
       "      <td>female</td>\n",
       "      <td>Saint-Petersburg</td>\n",
       "      <td>instagram_ads</td>\n",
       "    </tr>\n",
       "  </tbody>\n",
       "</table>\n",
       "</div>"
      ],
      "text/plain": [
       "         date      event  purchase_sum  os_name  device_id  gender  \\\n",
       "0  2020-01-01  app_start           NaN  android     669460  female   \n",
       "1  2020-01-01  app_start           NaN      ios     833621    male   \n",
       "2  2020-01-01  app_start           NaN  android    1579237    male   \n",
       "3  2020-01-01  app_start           NaN  android    1737182  female   \n",
       "4  2020-01-01  app_start           NaN      ios    4029024  female   \n",
       "5  2020-01-01  app_start           NaN  android    5148476    male   \n",
       "6  2020-01-01  app_start           NaN  android    8383386  female   \n",
       "7  2020-01-01  app_start           NaN  android    8581267  female   \n",
       "8  2020-01-01  app_start           NaN      ios   10144701  female   \n",
       "9  2020-01-01  app_start           NaN      ios   10274354  female   \n",
       "\n",
       "               city     utm_source  \n",
       "0            Moscow              -  \n",
       "1            Moscow         vk_ads  \n",
       "2  Saint-Petersburg        referal  \n",
       "3            Moscow   facebook_ads  \n",
       "4            Moscow   facebook_ads  \n",
       "5  Saint-Petersburg              -  \n",
       "6  Saint-Petersburg         vk_ads  \n",
       "7  Saint-Petersburg     google_ads  \n",
       "8            Moscow              -  \n",
       "9  Saint-Petersburg  instagram_ads  "
      ]
     },
     "execution_count": 3,
     "metadata": {},
     "output_type": "execute_result"
    }
   ],
   "source": [
    "import pandas as pd\n",
    "\n",
    "df = pd.read_csv('SF_case_data.csv')\n",
    "df.head(10)"
   ]
  },
  {
   "cell_type": "code",
   "execution_count": 4,
   "metadata": {},
   "outputs": [],
   "source": [
    "bydate = df.groupby('date').count().event\n"
   ]
  },
  {
   "cell_type": "code",
   "execution_count": 5,
   "metadata": {},
   "outputs": [
    {
     "data": {
      "text/plain": [
       "<matplotlib.axes._subplots.AxesSubplot at 0x7fb9cea2ce80>"
      ]
     },
     "execution_count": 5,
     "metadata": {},
     "output_type": "execute_result"
    },
    {
     "data": {
      "image/png": "[encoded data removed]",
      "text/plain": [
       "<Figure size 2160x720 with 1 Axes>"
      ]
     },
     "metadata": {
      "needs_background": "light"
     },
     "output_type": "display_data"
    }
   ],
   "source": [
    "bydate.plot(kind='bar', figsize=[30, 10])"
   ]
  },
  {
   "cell_type": "code",
   "execution_count": 6,
   "metadata": {},
   "outputs": [
    {
     "data": {
      "text/plain": [
       "array(['app_start', 'choose_item', 'purchase', 'search', 'tap_basket',\n",
       "       'app_install', 'register'], dtype=object)"
      ]
     },
     "execution_count": 6,
     "metadata": {},
     "output_type": "execute_result"
    }
   ],
   "source": [
    "df.event.unique()"
   ]
  },
  {
   "cell_type": "code",
   "execution_count": 7,
   "metadata": {},
   "outputs": [
    {
     "data": {
      "text/plain": [
       "968"
      ]
     },
     "execution_count": 7,
     "metadata": {},
     "output_type": "execute_result"
    }
   ],
   "source": [
    "len(df[\n",
    "    (df.date == '2020-03-31') \n",
    "    & (df.event == 'app_install')\n",
    "].device_id.unique())"
   ]
  },
  {
   "cell_type": "code",
   "execution_count": 8,
   "metadata": {},
   "outputs": [
    {
     "data": {
      "text/html": [
       "<div>\n",
       "<style scoped>\n",
       "    .dataframe tbody tr th:only-of-type {\n",
       "        vertical-align: middle;\n",
       "    }\n",
       "\n",
       "    .dataframe tbody tr th {\n",
       "        vertical-align: top;\n",
       "    }\n",
       "\n",
       "    .dataframe thead th {\n",
       "        text-align: right;\n",
       "    }\n",
       "</style>\n",
       "<table border=\"1\" class=\"dataframe\">\n",
       "  <thead>\n",
       "    <tr style=\"text-align: right;\">\n",
       "      <th></th>\n",
       "      <th>device_id</th>\n",
       "      <th>mindate</th>\n",
       "    </tr>\n",
       "  </thead>\n",
       "  <tbody>\n",
       "    <tr>\n",
       "      <th>0</th>\n",
       "      <td>4013</td>\n",
       "      <td>2020-01-15</td>\n",
       "    </tr>\n",
       "  </tbody>\n",
       "</table>\n",
       "</div>"
      ],
      "text/plain": [
       "   device_id     mindate\n",
       "0       4013  2020-01-15"
      ]
     },
     "execution_count": 8,
     "metadata": {},
     "output_type": "execute_result"
    }
   ],
   "source": [
    "import numpy as np\n",
    "installed = df[(df.event == 'app_install')][['device_id', 'date']].groupby('device_id').agg({\n",
    "    'date': np.min\n",
    "}).reset_index()\n",
    "installed.rename(columns={'date': 'mindate'}, inplace=True)\n",
    "installed.head(1)"
   ]
  },
  {
   "cell_type": "code",
   "execution_count": 9,
   "metadata": {},
   "outputs": [],
   "source": [
    "filtered = df[\n",
    "    (df.date == '2020-02-14') \n",
    "    & (df.event == 'app_start')\n",
    "].copy()\n"
   ]
  },
  {
   "cell_type": "code",
   "execution_count": 10,
   "metadata": {},
   "outputs": [],
   "source": [
    "joined = pd.merge(filtered, installed, left_on='device_id', right_on='device_id')"
   ]
  },
  {
   "cell_type": "code",
   "execution_count": 11,
   "metadata": {},
   "outputs": [
    {
     "name": "stdout",
     "output_type": "stream",
     "text": [
      "64.38169756761354\n"
     ]
    }
   ],
   "source": [
    "allC = len(joined.device_id.unique())\n",
    "beforeC = len(joined[(joined.date > joined.mindate)].device_id.unique())\n",
    "print(beforeC*100/allC)"
   ]
  },
  {
   "cell_type": "code",
   "execution_count": 12,
   "metadata": {},
   "outputs": [],
   "source": [
    "data = pd.read_csv('SF_case_data.csv')"
   ]
  },
  {
   "cell_type": "code",
   "execution_count": 13,
   "metadata": {},
   "outputs": [
    {
     "data": {
      "text/plain": [
       "Остальные                    594108\n",
       "Установили в этот же день    154597\n",
       "Name: install_group, dtype: int64"
      ]
     },
     "execution_count": 13,
     "metadata": {},
     "output_type": "execute_result"
    }
   ],
   "source": [
    "installs = data[data['event'] == 'app_install']\n",
    "data['install_date'] = data['device_id'].map(installs.set_index('device_id')['date'])\n",
    "def new_column(date1,date2,value):\n",
    "    if date1 == date2:\n",
    "        return value\n",
    "data['install_group'] = data.apply(lambda x: new_column(date1 = x['date'], date2 = x['install_date'], value = 'Установили в этот же день'), axis=1)\n",
    "data['install_group'] = data['install_group'].fillna('Остальные')\n",
    "data[data['event'] == 'app_start']['install_group'].value_counts()"
   ]
  },
  {
   "cell_type": "code",
   "execution_count": 14,
   "metadata": {},
   "outputs": [
    {
     "data": {
      "image/png": "[encoded data removed]",
      "text/plain": [
       "<Figure size 1080x720 with 1 Axes>"
      ]
     },
     "metadata": {
      "needs_background": "light"
     },
     "output_type": "display_data"
    }
   ],
   "source": [
    "df1 = data[data['event'] == 'app_start'].groupby(['date','install_group']).size().reset_index(name = 'users')\n",
    "import matplotlib.pyplot as plt\n",
    "\n",
    "\n",
    "fig, ax = plt.subplots(figsize=[15, 10])\n",
    "\n",
    "for key, grp in df1.groupby(['install_group']):\n",
    "    ax = grp.plot(ax=ax, kind='line', x='date', y='users', label=key)\n",
    "\n",
    "plt.legend(loc='best')\n",
    "plt.show()"
   ]
  },
  {
   "cell_type": "code",
   "execution_count": 15,
   "metadata": {},
   "outputs": [
    {
     "data": {
      "image/png": "[encoded data removed]",
      "text/plain": [
       "<Figure size 4320x720 with 1 Axes>"
      ]
     },
     "metadata": {
      "needs_background": "light"
     },
     "output_type": "display_data"
    }
   ],
   "source": [
    "df1 = data[data['event'] == 'app_start'].groupby(['date','install_group']).size().reset_index(name = 'users')\n",
    "groupped_data = df1.groupby(['date']).agg({'users': 'sum'}).reset_index()\n",
    "groupped_data\n",
    "joined = pd.merge(df1, groupped_data, left_on = 'date', right_on = 'date')\n",
    "joined['%'] = joined.apply(lambda x: x['users_x']*100/x['users_y'], axis=1)\n",
    "ax = joined[(joined.install_group == 'Установили в этот же день')].plot(kind='bar', x='date', y='%', figsize=[60, 10])\n",
    "def add_value_labels(ax, spacing=5):\n",
    "    \"\"\"Add labels to the end of each bar in a bar chart.\n",
    "\n",
    "    Arguments:\n",
    "        ax (matplotlib.axes.Axes): The matplotlib object containing the axes\n",
    "            of the plot to annotate.\n",
    "        spacing (int): The distance between the labels and the bars.\n",
    "    \"\"\"\n",
    "\n",
    "    # For each bar: Place a label\n",
    "    for rect in ax.patches:\n",
    "        # Get X and Y placement of label from rect.\n",
    "        y_value = rect.get_height()\n",
    "        x_value = rect.get_x() + rect.get_width() / 2\n",
    "\n",
    "        # Number of points between bar and label. Change to your liking.\n",
    "        space = spacing\n",
    "        # Vertical alignment for positive values\n",
    "        va = 'bottom'\n",
    "\n",
    "        # If value of bar is negative: Place label below bar\n",
    "        if y_value < 0:\n",
    "            # Invert space to place label below\n",
    "            space *= -1\n",
    "            # Vertically align label at top\n",
    "            va = 'top'\n",
    "\n",
    "        # Use Y value as label and format number with one decimal place\n",
    "        label = \"{:.1f}\".format(y_value)\n",
    "\n",
    "        # Create annotation\n",
    "        ax.annotate(\n",
    "            label,                      # Use `label` as label\n",
    "            (x_value, y_value),         # Place label at end of the bar\n",
    "            xytext=(0, space),          # Vertically shift label by `space`\n",
    "            textcoords=\"offset points\", # Interpret `xytext` as offset in points\n",
    "            ha='center',                # Horizontally center label\n",
    "            va=va)                      # Vertically align label differently for\n",
    "                                        # positive and negative values.\n",
    "\n",
    "\n",
    "# Call the function above. All the magic happens there.\n",
    "add_value_labels(ax)"
   ]
  },
  {
   "cell_type": "code",
   "execution_count": 16,
   "metadata": {},
   "outputs": [
    {
     "data": {
      "text/html": [
       "<div>\n",
       "<style scoped>\n",
       "    .dataframe tbody tr th:only-of-type {\n",
       "        vertical-align: middle;\n",
       "    }\n",
       "\n",
       "    .dataframe tbody tr th {\n",
       "        vertical-align: top;\n",
       "    }\n",
       "\n",
       "    .dataframe thead th {\n",
       "        text-align: right;\n",
       "    }\n",
       "</style>\n",
       "<table border=\"1\" class=\"dataframe\">\n",
       "  <thead>\n",
       "    <tr style=\"text-align: right;\">\n",
       "      <th></th>\n",
       "      <th>date</th>\n",
       "      <th>install_group</th>\n",
       "      <th>users</th>\n",
       "    </tr>\n",
       "  </thead>\n",
       "  <tbody>\n",
       "    <tr>\n",
       "      <th>0</th>\n",
       "      <td>2020-01-01</td>\n",
       "      <td>Остальные</td>\n",
       "      <td>866</td>\n",
       "    </tr>\n",
       "    <tr>\n",
       "      <th>1</th>\n",
       "      <td>2020-01-01</td>\n",
       "      <td>Установили в этот же день</td>\n",
       "      <td>3579</td>\n",
       "    </tr>\n",
       "    <tr>\n",
       "      <th>2</th>\n",
       "      <td>2020-01-02</td>\n",
       "      <td>Остальные</td>\n",
       "      <td>1957</td>\n",
       "    </tr>\n",
       "    <tr>\n",
       "      <th>3</th>\n",
       "      <td>2020-01-02</td>\n",
       "      <td>Установили в этот же день</td>\n",
       "      <td>3144</td>\n",
       "    </tr>\n",
       "    <tr>\n",
       "      <th>4</th>\n",
       "      <td>2020-01-03</td>\n",
       "      <td>Остальные</td>\n",
       "      <td>2742</td>\n",
       "    </tr>\n",
       "    <tr>\n",
       "      <th>...</th>\n",
       "      <td>...</td>\n",
       "      <td>...</td>\n",
       "      <td>...</td>\n",
       "    </tr>\n",
       "    <tr>\n",
       "      <th>177</th>\n",
       "      <td>2020-03-29</td>\n",
       "      <td>Установили в этот же день</td>\n",
       "      <td>1117</td>\n",
       "    </tr>\n",
       "    <tr>\n",
       "      <th>178</th>\n",
       "      <td>2020-03-30</td>\n",
       "      <td>Остальные</td>\n",
       "      <td>4710</td>\n",
       "    </tr>\n",
       "    <tr>\n",
       "      <th>179</th>\n",
       "      <td>2020-03-30</td>\n",
       "      <td>Установили в этот же день</td>\n",
       "      <td>994</td>\n",
       "    </tr>\n",
       "    <tr>\n",
       "      <th>180</th>\n",
       "      <td>2020-03-31</td>\n",
       "      <td>Остальные</td>\n",
       "      <td>4322</td>\n",
       "    </tr>\n",
       "    <tr>\n",
       "      <th>181</th>\n",
       "      <td>2020-03-31</td>\n",
       "      <td>Установили в этот же день</td>\n",
       "      <td>968</td>\n",
       "    </tr>\n",
       "  </tbody>\n",
       "</table>\n",
       "<p>182 rows × 3 columns</p>\n",
       "</div>"
      ],
      "text/plain": [
       "           date              install_group  users\n",
       "0    2020-01-01                  Остальные    866\n",
       "1    2020-01-01  Установили в этот же день   3579\n",
       "2    2020-01-02                  Остальные   1957\n",
       "3    2020-01-02  Установили в этот же день   3144\n",
       "4    2020-01-03                  Остальные   2742\n",
       "..          ...                        ...    ...\n",
       "177  2020-03-29  Установили в этот же день   1117\n",
       "178  2020-03-30                  Остальные   4710\n",
       "179  2020-03-30  Установили в этот же день    994\n",
       "180  2020-03-31                  Остальные   4322\n",
       "181  2020-03-31  Установили в этот же день    968\n",
       "\n",
       "[182 rows x 3 columns]"
      ]
     },
     "execution_count": 16,
     "metadata": {},
     "output_type": "execute_result"
    }
   ],
   "source": [
    "df1"
   ]
  },
  {
   "cell_type": "code",
   "execution_count": 17,
   "metadata": {},
   "outputs": [
    {
     "data": {
      "text/html": [
       "<div>\n",
       "<style scoped>\n",
       "    .dataframe tbody tr th:only-of-type {\n",
       "        vertical-align: middle;\n",
       "    }\n",
       "\n",
       "    .dataframe tbody tr th {\n",
       "        vertical-align: top;\n",
       "    }\n",
       "\n",
       "    .dataframe thead th {\n",
       "        text-align: right;\n",
       "    }\n",
       "</style>\n",
       "<table border=\"1\" class=\"dataframe\">\n",
       "  <thead>\n",
       "    <tr style=\"text-align: right;\">\n",
       "      <th>channel</th>\n",
       "      <th>channel</th>\n",
       "    </tr>\n",
       "    <tr>\n",
       "      <th>utm_source</th>\n",
       "      <th></th>\n",
       "    </tr>\n",
       "  </thead>\n",
       "  <tbody>\n",
       "    <tr>\n",
       "      <th>-</th>\n",
       "      <td>0.217179</td>\n",
       "    </tr>\n",
       "    <tr>\n",
       "      <th>yandex-direct</th>\n",
       "      <td>0.180429</td>\n",
       "    </tr>\n",
       "    <tr>\n",
       "      <th>google_ads</th>\n",
       "      <td>0.164692</td>\n",
       "    </tr>\n",
       "    <tr>\n",
       "      <th>vk_ads</th>\n",
       "      <td>0.146188</td>\n",
       "    </tr>\n",
       "    <tr>\n",
       "      <th>instagram_ads</th>\n",
       "      <td>0.130016</td>\n",
       "    </tr>\n",
       "    <tr>\n",
       "      <th>facebook_ads</th>\n",
       "      <td>0.098720</td>\n",
       "    </tr>\n",
       "    <tr>\n",
       "      <th>referal</th>\n",
       "      <td>0.062776</td>\n",
       "    </tr>\n",
       "  </tbody>\n",
       "</table>\n",
       "</div>"
      ],
      "text/plain": [
       "channel         channel\n",
       "utm_source             \n",
       "-              0.217179\n",
       "yandex-direct  0.180429\n",
       "google_ads     0.164692\n",
       "vk_ads         0.146188\n",
       "instagram_ads  0.130016\n",
       "facebook_ads   0.098720\n",
       "referal        0.062776"
      ]
     },
     "execution_count": 17,
     "metadata": {},
     "output_type": "execute_result"
    }
   ],
   "source": [
    "df = data[data['event'] == 'app_start'].sort_values('date').drop_duplicates('device_id').groupby(['date','utm_source']).size().reset_index(name = 'users')\n",
    "pd.pivot_table(df, values='users', index='utm_source', aggfunc='sum').sort_values('users',ascending = False)\n",
    "df['channel'] = 'channel'\n",
    "pd.crosstab(df.utm_source, df.channel, values=df.users, aggfunc=np.sum, normalize='columns').sort_values('channel', ascending = False)"
   ]
  },
  {
   "cell_type": "code",
   "execution_count": 56,
   "metadata": {},
   "outputs": [],
   "source": [
    "data = pd.read_csv('SF_case_data.csv')\n"
   ]
  },
  {
   "cell_type": "code",
   "execution_count": 57,
   "metadata": {},
   "outputs": [
    {
     "name": "stderr",
     "output_type": "stream",
     "text": [
      "<ipython-input-57-39cbdd3bfc77>:6: SettingWithCopyWarning: \n",
      "A value is trying to be set on a copy of a slice from a DataFrame.\n",
      "Try using .loc[row_indexer,col_indexer] = value instead\n",
      "\n",
      "See the caveats in the documentation: https://pandas.pydata.org/pandas-docs/stable/user_guide/indexing.html#returning-a-view-versus-a-copy\n",
      "  already_reg['registered'] = 1\n",
      "<ipython-input-57-39cbdd3bfc77>:8: SettingWithCopyWarning: \n",
      "A value is trying to be set on a copy of a slice from a DataFrame.\n",
      "Try using .loc[row_indexer,col_indexer] = value instead\n",
      "\n",
      "See the caveats in the documentation: https://pandas.pydata.org/pandas-docs/stable/user_guide/indexing.html#returning-a-view-versus-a-copy\n",
      "  requires_reg1['registered'] = 0\n",
      "<ipython-input-57-39cbdd3bfc77>:10: SettingWithCopyWarning: \n",
      "A value is trying to be set on a copy of a slice from a DataFrame.\n",
      "Try using .loc[row_indexer,col_indexer] = value instead\n",
      "\n",
      "See the caveats in the documentation: https://pandas.pydata.org/pandas-docs/stable/user_guide/indexing.html#returning-a-view-versus-a-copy\n",
      "  requires_reg2['registered'] = 0\n"
     ]
    },
    {
     "data": {
      "text/html": [
       "<div>\n",
       "<style scoped>\n",
       "    .dataframe tbody tr th:only-of-type {\n",
       "        vertical-align: middle;\n",
       "    }\n",
       "\n",
       "    .dataframe tbody tr th {\n",
       "        vertical-align: top;\n",
       "    }\n",
       "\n",
       "    .dataframe thead th {\n",
       "        text-align: right;\n",
       "    }\n",
       "</style>\n",
       "<table border=\"1\" class=\"dataframe\">\n",
       "  <thead>\n",
       "    <tr style=\"text-align: right;\">\n",
       "      <th></th>\n",
       "      <th>date</th>\n",
       "      <th>event</th>\n",
       "      <th>purchase_sum</th>\n",
       "      <th>os_name</th>\n",
       "      <th>device_id</th>\n",
       "      <th>gender</th>\n",
       "      <th>city</th>\n",
       "      <th>utm_source</th>\n",
       "      <th>first_registration</th>\n",
       "      <th>finally_registered</th>\n",
       "    </tr>\n",
       "    <tr>\n",
       "      <th>registered</th>\n",
       "      <th></th>\n",
       "      <th></th>\n",
       "      <th></th>\n",
       "      <th></th>\n",
       "      <th></th>\n",
       "      <th></th>\n",
       "      <th></th>\n",
       "      <th></th>\n",
       "      <th></th>\n",
       "      <th></th>\n",
       "    </tr>\n",
       "  </thead>\n",
       "  <tbody>\n",
       "    <tr>\n",
       "      <th>0</th>\n",
       "      <td>160409</td>\n",
       "      <td>160409</td>\n",
       "      <td>0</td>\n",
       "      <td>160409</td>\n",
       "      <td>160409</td>\n",
       "      <td>160409</td>\n",
       "      <td>160409</td>\n",
       "      <td>160409</td>\n",
       "      <td>105031</td>\n",
       "      <td>105031</td>\n",
       "    </tr>\n",
       "    <tr>\n",
       "      <th>1</th>\n",
       "      <td>217256</td>\n",
       "      <td>217256</td>\n",
       "      <td>0</td>\n",
       "      <td>217256</td>\n",
       "      <td>217256</td>\n",
       "      <td>217256</td>\n",
       "      <td>217256</td>\n",
       "      <td>217256</td>\n",
       "      <td>217256</td>\n",
       "      <td>217256</td>\n",
       "    </tr>\n",
       "  </tbody>\n",
       "</table>\n",
       "</div>"
      ],
      "text/plain": [
       "              date   event  purchase_sum  os_name  device_id  gender    city  \\\n",
       "registered                                                                     \n",
       "0           160409  160409             0   160409     160409  160409  160409   \n",
       "1           217256  217256             0   217256     217256  217256  217256   \n",
       "\n",
       "            utm_source  first_registration  finally_registered  \n",
       "registered                                                      \n",
       "0               160409              105031              105031  \n",
       "1               217256              217256              217256  "
      ]
     },
     "execution_count": 57,
     "metadata": {},
     "output_type": "execute_result"
    }
   ],
   "source": [
    "first_registration = data[data['event'] == 'register'].sort_values('date').drop_duplicates('device_id')\n",
    "first_registration['finally_registered'] = 1\n",
    "data['first_registration'] = data['device_id'].map(first_registration.set_index('device_id')['date'])\n",
    "data['finally_registered'] = data['device_id'].map(first_registration.set_index('device_id')['finally_registered'])\n",
    "already_reg = data[data['first_registration'] < data['date']]\n",
    "already_reg['registered'] = 1\n",
    "requires_reg1 = data[(data['first_registration'].isna() == True)]\n",
    "requires_reg1['registered'] = 0\n",
    "requires_reg2 =  data[data['first_registration'] >= data['date']]\n",
    "requires_reg2['registered'] = 0\n",
    "data = pd.concat([already_reg,requires_reg1,requires_reg2])\n",
    "data[data['event'] == 'tap_basket'].groupby('registered').count()"
   ]
  },
  {
   "cell_type": "code",
   "execution_count": 55,
   "metadata": {},
   "outputs": [
    {
     "data": {
      "text/html": [
       "<div>\n",
       "<style scoped>\n",
       "    .dataframe tbody tr th:only-of-type {\n",
       "        vertical-align: middle;\n",
       "    }\n",
       "\n",
       "    .dataframe tbody tr th {\n",
       "        vertical-align: top;\n",
       "    }\n",
       "\n",
       "    .dataframe thead th {\n",
       "        text-align: right;\n",
       "    }\n",
       "</style>\n",
       "<table border=\"1\" class=\"dataframe\">\n",
       "  <thead>\n",
       "    <tr style=\"text-align: right;\">\n",
       "      <th>event</th>\n",
       "      <th>app_install</th>\n",
       "      <th>app_start</th>\n",
       "      <th>choose_item</th>\n",
       "      <th>purchase</th>\n",
       "      <th>register</th>\n",
       "      <th>search</th>\n",
       "      <th>tap_basket</th>\n",
       "      <th>1 step</th>\n",
       "      <th>2 step</th>\n",
       "      <th>3 step</th>\n",
       "      <th>4 step</th>\n",
       "      <th>5 step</th>\n",
       "    </tr>\n",
       "    <tr>\n",
       "      <th>utm_source</th>\n",
       "      <th></th>\n",
       "      <th></th>\n",
       "      <th></th>\n",
       "      <th></th>\n",
       "      <th></th>\n",
       "      <th></th>\n",
       "      <th></th>\n",
       "      <th></th>\n",
       "      <th></th>\n",
       "      <th></th>\n",
       "      <th></th>\n",
       "      <th></th>\n",
       "    </tr>\n",
       "  </thead>\n",
       "  <tbody>\n",
       "    <tr>\n",
       "      <th>-</th>\n",
       "      <td>32460</td>\n",
       "      <td>48670</td>\n",
       "      <td>38026</td>\n",
       "      <td>14073</td>\n",
       "      <td>16527</td>\n",
       "      <td>46742</td>\n",
       "      <td>29223</td>\n",
       "      <td>96.038627</td>\n",
       "      <td>81.352959</td>\n",
       "      <td>76.850050</td>\n",
       "      <td>56.554769</td>\n",
       "      <td>85.151570</td>\n",
       "    </tr>\n",
       "    <tr>\n",
       "      <th>facebook_ads</th>\n",
       "      <td>13916</td>\n",
       "      <td>23780</td>\n",
       "      <td>18713</td>\n",
       "      <td>7506</td>\n",
       "      <td>8672</td>\n",
       "      <td>22822</td>\n",
       "      <td>14592</td>\n",
       "      <td>95.971405</td>\n",
       "      <td>81.995443</td>\n",
       "      <td>77.977876</td>\n",
       "      <td>59.429825</td>\n",
       "      <td>86.554428</td>\n",
       "    </tr>\n",
       "    <tr>\n",
       "      <th>google_ads</th>\n",
       "      <td>26286</td>\n",
       "      <td>35778</td>\n",
       "      <td>27416</td>\n",
       "      <td>9777</td>\n",
       "      <td>11405</td>\n",
       "      <td>34217</td>\n",
       "      <td>20765</td>\n",
       "      <td>95.636984</td>\n",
       "      <td>80.123915</td>\n",
       "      <td>75.740444</td>\n",
       "      <td>54.924151</td>\n",
       "      <td>85.725559</td>\n",
       "    </tr>\n",
       "    <tr>\n",
       "      <th>instagram_ads</th>\n",
       "      <td>20096</td>\n",
       "      <td>29237</td>\n",
       "      <td>22858</td>\n",
       "      <td>9394</td>\n",
       "      <td>10750</td>\n",
       "      <td>28017</td>\n",
       "      <td>17881</td>\n",
       "      <td>95.827205</td>\n",
       "      <td>81.586180</td>\n",
       "      <td>78.226442</td>\n",
       "      <td>60.119680</td>\n",
       "      <td>87.386047</td>\n",
       "    </tr>\n",
       "    <tr>\n",
       "      <th>referal</th>\n",
       "      <td>9282</td>\n",
       "      <td>14866</td>\n",
       "      <td>11880</td>\n",
       "      <td>5503</td>\n",
       "      <td>6193</td>\n",
       "      <td>14316</td>\n",
       "      <td>9518</td>\n",
       "      <td>96.300283</td>\n",
       "      <td>82.984074</td>\n",
       "      <td>80.117845</td>\n",
       "      <td>65.066190</td>\n",
       "      <td>88.858389</td>\n",
       "    </tr>\n",
       "    <tr>\n",
       "      <th>vk_ads</th>\n",
       "      <td>23189</td>\n",
       "      <td>32353</td>\n",
       "      <td>25422</td>\n",
       "      <td>10919</td>\n",
       "      <td>12421</td>\n",
       "      <td>31010</td>\n",
       "      <td>20014</td>\n",
       "      <td>95.848917</td>\n",
       "      <td>81.980006</td>\n",
       "      <td>78.727087</td>\n",
       "      <td>62.061557</td>\n",
       "      <td>87.907576</td>\n",
       "    </tr>\n",
       "    <tr>\n",
       "      <th>yandex-direct</th>\n",
       "      <td>29368</td>\n",
       "      <td>38578</td>\n",
       "      <td>29591</td>\n",
       "      <td>10581</td>\n",
       "      <td>12342</td>\n",
       "      <td>36933</td>\n",
       "      <td>22417</td>\n",
       "      <td>95.735912</td>\n",
       "      <td>80.120759</td>\n",
       "      <td>75.756142</td>\n",
       "      <td>55.056430</td>\n",
       "      <td>85.731648</td>\n",
       "    </tr>\n",
       "  </tbody>\n",
       "</table>\n",
       "</div>"
      ],
      "text/plain": [
       "event          app_install  app_start  choose_item  purchase  register  \\\n",
       "utm_source                                                               \n",
       "-                    32460      48670        38026     14073     16527   \n",
       "facebook_ads         13916      23780        18713      7506      8672   \n",
       "google_ads           26286      35778        27416      9777     11405   \n",
       "instagram_ads        20096      29237        22858      9394     10750   \n",
       "referal               9282      14866        11880      5503      6193   \n",
       "vk_ads               23189      32353        25422     10919     12421   \n",
       "yandex-direct        29368      38578        29591     10581     12342   \n",
       "\n",
       "event          search  tap_basket     1 step     2 step     3 step     4 step  \\\n",
       "utm_source                                                                      \n",
       "-               46742       29223  96.038627  81.352959  76.850050  56.554769   \n",
       "facebook_ads    22822       14592  95.971405  81.995443  77.977876  59.429825   \n",
       "google_ads      34217       20765  95.636984  80.123915  75.740444  54.924151   \n",
       "instagram_ads   28017       17881  95.827205  81.586180  78.226442  60.119680   \n",
       "referal         14316        9518  96.300283  82.984074  80.117845  65.066190   \n",
       "vk_ads          31010       20014  95.848917  81.980006  78.727087  62.061557   \n",
       "yandex-direct   36933       22417  95.735912  80.120759  75.756142  55.056430   \n",
       "\n",
       "event             5 step  \n",
       "utm_source                \n",
       "-              85.151570  \n",
       "facebook_ads   86.554428  \n",
       "google_ads     85.725559  \n",
       "instagram_ads  87.386047  \n",
       "referal        88.858389  \n",
       "vk_ads         87.907576  \n",
       "yandex-direct  85.731648  "
      ]
     },
     "execution_count": 55,
     "metadata": {},
     "output_type": "execute_result"
    }
   ],
   "source": [
    "not_reg = data[data['registered'] == 0]\n",
    "funnel_not_reg = pd.crosstab(not_reg.utm_source, not_reg.event, values=not_reg.device_id, aggfunc=pd.Series.nunique)\n",
    "funnel_not_reg['1 step'] = funnel_not_reg['search']*100/funnel_not_reg['app_start']\n",
    "funnel_not_reg['2 step'] = funnel_not_reg['choose_item']*100/funnel_not_reg['search']\n",
    "funnel_not_reg['3 step'] = funnel_not_reg['tap_basket']*100/funnel_not_reg['choose_item']\n",
    "funnel_not_reg['4 step'] = funnel_not_reg['register']*100/funnel_not_reg['tap_basket']\n",
    "funnel_not_reg['5 step'] = funnel_not_reg['purchase']*100/funnel_not_reg['register']\n",
    "funnel_not_reg"
   ]
  },
  {
   "cell_type": "code",
   "execution_count": 1,
   "metadata": {},
   "outputs": [
    {
     "ename": "NameError",
     "evalue": "name 'data' is not defined",
     "output_type": "error",
     "traceback": [
      "\u001b[0;31m---------------------------------------------------------------------------\u001b[0m",
      "\u001b[0;31mNameError\u001b[0m                                 Traceback (most recent call last)",
      "\u001b[0;32m<ipython-input-1-e237d60c3800>\u001b[0m in \u001b[0;36m<module>\u001b[0;34m\u001b[0m\n\u001b[0;32m----> 1\u001b[0;31m \u001b[0mreg\u001b[0m \u001b[0;34m=\u001b[0m \u001b[0mdata\u001b[0m\u001b[0;34m[\u001b[0m\u001b[0mdata\u001b[0m\u001b[0;34m[\u001b[0m\u001b[0;34m'registered'\u001b[0m\u001b[0;34m]\u001b[0m \u001b[0;34m==\u001b[0m \u001b[0;36m1\u001b[0m\u001b[0;34m]\u001b[0m\u001b[0;34m\u001b[0m\u001b[0;34m\u001b[0m\u001b[0m\n\u001b[0m\u001b[1;32m      2\u001b[0m \u001b[0mfunnel_reg\u001b[0m \u001b[0;34m=\u001b[0m \u001b[0mpd\u001b[0m\u001b[0;34m.\u001b[0m\u001b[0mcrosstab\u001b[0m\u001b[0;34m(\u001b[0m\u001b[0mreg\u001b[0m\u001b[0;34m.\u001b[0m\u001b[0mutm_source\u001b[0m\u001b[0;34m,\u001b[0m \u001b[0mreg\u001b[0m\u001b[0;34m.\u001b[0m\u001b[0mevent\u001b[0m\u001b[0;34m,\u001b[0m \u001b[0mvalues\u001b[0m\u001b[0;34m=\u001b[0m\u001b[0mreg\u001b[0m\u001b[0;34m.\u001b[0m\u001b[0mdevice_id\u001b[0m\u001b[0;34m,\u001b[0m \u001b[0maggfunc\u001b[0m\u001b[0;34m=\u001b[0m\u001b[0mpd\u001b[0m\u001b[0;34m.\u001b[0m\u001b[0mSeries\u001b[0m\u001b[0;34m.\u001b[0m\u001b[0mnunique\u001b[0m\u001b[0;34m)\u001b[0m\u001b[0;34m\u001b[0m\u001b[0;34m\u001b[0m\u001b[0m\n\u001b[1;32m      3\u001b[0m \u001b[0mfunnel_reg\u001b[0m\u001b[0;34m[\u001b[0m\u001b[0;34m'1 step'\u001b[0m\u001b[0;34m]\u001b[0m \u001b[0;34m=\u001b[0m \u001b[0mfunnel_reg\u001b[0m\u001b[0;34m[\u001b[0m\u001b[0;34m'search'\u001b[0m\u001b[0;34m]\u001b[0m\u001b[0;34m*\u001b[0m\u001b[0;36m100\u001b[0m\u001b[0;34m/\u001b[0m\u001b[0mfunnel_reg\u001b[0m\u001b[0;34m[\u001b[0m\u001b[0;34m'app_start'\u001b[0m\u001b[0;34m]\u001b[0m\u001b[0;34m\u001b[0m\u001b[0;34m\u001b[0m\u001b[0m\n\u001b[1;32m      4\u001b[0m \u001b[0mfunnel_reg\u001b[0m\u001b[0;34m[\u001b[0m\u001b[0;34m'2 step'\u001b[0m\u001b[0;34m]\u001b[0m \u001b[0;34m=\u001b[0m \u001b[0mfunnel_reg\u001b[0m\u001b[0;34m[\u001b[0m\u001b[0;34m'choose_item'\u001b[0m\u001b[0;34m]\u001b[0m\u001b[0;34m*\u001b[0m\u001b[0;36m100\u001b[0m\u001b[0;34m/\u001b[0m\u001b[0mfunnel_reg\u001b[0m\u001b[0;34m[\u001b[0m\u001b[0;34m'search'\u001b[0m\u001b[0;34m]\u001b[0m\u001b[0;34m\u001b[0m\u001b[0;34m\u001b[0m\u001b[0m\n\u001b[1;32m      5\u001b[0m \u001b[0mfunnel_reg\u001b[0m\u001b[0;34m[\u001b[0m\u001b[0;34m'3 step'\u001b[0m\u001b[0;34m]\u001b[0m \u001b[0;34m=\u001b[0m \u001b[0mfunnel_reg\u001b[0m\u001b[0;34m[\u001b[0m\u001b[0;34m'tap_basket'\u001b[0m\u001b[0;34m]\u001b[0m\u001b[0;34m*\u001b[0m\u001b[0;36m100\u001b[0m\u001b[0;34m/\u001b[0m\u001b[0mfunnel_reg\u001b[0m\u001b[0;34m[\u001b[0m\u001b[0;34m'choose_item'\u001b[0m\u001b[0;34m]\u001b[0m\u001b[0;34m\u001b[0m\u001b[0;34m\u001b[0m\u001b[0m\n",
      "\u001b[0;31mNameError\u001b[0m: name 'data' is not defined"
     ]
    }
   ],
   "source": [
    "reg = data[data['registered'] == 1]\n",
    "funnel_reg = pd.crosstab(reg.utm_source, reg.event, values=reg.device_id, aggfunc=pd.Series.nunique)\n",
    "funnel_reg['1 step'] = funnel_reg['search']*100/funnel_reg['app_start']\n",
    "funnel_reg['2 step'] = funnel_reg['choose_item']*100/funnel_reg['search']\n",
    "funnel_reg['3 step'] = funnel_reg['tap_basket']*100/funnel_reg['choose_item']\n",
    "funnel_reg['5 step'] = funnel_reg['purchase']*100/funnel_reg['tap_basket']\n",
    "funnel_reg\n"
   ]
  },
  {
   "cell_type": "code",
   "execution_count": null,
   "metadata": {},
   "outputs": [],
   "source": []
  },
  {
   "cell_type": "code",
   "execution_count": 2,
   "metadata": {},
   "outputs": [
    {
     "ename": "NameError",
     "evalue": "name 'pd' is not defined",
     "output_type": "error",
     "traceback": [
      "\u001b[0;31m---------------------------------------------------------------------------\u001b[0m",
      "\u001b[0;31mNameError\u001b[0m                                 Traceback (most recent call last)",
      "\u001b[0;32m<ipython-input-2-159886677464>\u001b[0m in \u001b[0;36m<module>\u001b[0;34m\u001b[0m\n\u001b[0;32m----> 1\u001b[0;31m \u001b[0mdata\u001b[0m \u001b[0;34m=\u001b[0m \u001b[0mpd\u001b[0m\u001b[0;34m.\u001b[0m\u001b[0mread_csv\u001b[0m\u001b[0;34m(\u001b[0m\u001b[0;34m'SF_case_data.csv'\u001b[0m\u001b[0;34m)\u001b[0m\u001b[0;34m\u001b[0m\u001b[0;34m\u001b[0m\u001b[0m\n\u001b[0m",
      "\u001b[0;31mNameError\u001b[0m: name 'pd' is not defined"
     ]
    }
   ],
   "source": [
    "data = pd.read_csv('SF_case_data.csv')\n"
   ]
  },
  {
   "cell_type": "code",
   "execution_count": 84,
   "metadata": {},
   "outputs": [],
   "source": [
    "import numpy as np\n",
    "\n",
    "purchased = data[(data.event == 'purchase')][['device_id', 'date']].groupby('device_id').agg({\n",
    "    'date': np.min\n",
    "}).reset_index()\n",
    "purchased.rename(columns={'date': 'mindate'}, inplace=True)\n",
    "purchased.head(1)\n",
    "\n",
    "filtered = data[(data.event == 'purchase')].copy()"
   ]
  },
  {
   "cell_type": "code",
   "execution_count": 85,
   "metadata": {},
   "outputs": [
    {
     "data": {
      "text/html": [
       "<div>\n",
       "<style scoped>\n",
       "    .dataframe tbody tr th:only-of-type {\n",
       "        vertical-align: middle;\n",
       "    }\n",
       "\n",
       "    .dataframe tbody tr th {\n",
       "        vertical-align: top;\n",
       "    }\n",
       "\n",
       "    .dataframe thead th {\n",
       "        text-align: right;\n",
       "    }\n",
       "</style>\n",
       "<table border=\"1\" class=\"dataframe\">\n",
       "  <thead>\n",
       "    <tr style=\"text-align: right;\">\n",
       "      <th></th>\n",
       "      <th>purchase_sum</th>\n",
       "      <th>device_id</th>\n",
       "    </tr>\n",
       "    <tr>\n",
       "      <th>utm_source</th>\n",
       "      <th></th>\n",
       "      <th></th>\n",
       "    </tr>\n",
       "  </thead>\n",
       "  <tbody>\n",
       "    <tr>\n",
       "      <th>-</th>\n",
       "      <td>5511400.5</td>\n",
       "      <td>7756</td>\n",
       "    </tr>\n",
       "    <tr>\n",
       "      <th>facebook_ads</th>\n",
       "      <td>2237399.5</td>\n",
       "      <td>3400</td>\n",
       "    </tr>\n",
       "    <tr>\n",
       "      <th>google_ads</th>\n",
       "      <td>4570341.0</td>\n",
       "      <td>6412</td>\n",
       "    </tr>\n",
       "    <tr>\n",
       "      <th>instagram_ads</th>\n",
       "      <td>3346402.0</td>\n",
       "      <td>4734</td>\n",
       "    </tr>\n",
       "    <tr>\n",
       "      <th>referal</th>\n",
       "      <td>1565734.0</td>\n",
       "      <td>2233</td>\n",
       "    </tr>\n",
       "    <tr>\n",
       "      <th>vk_ads</th>\n",
       "      <td>4057710.5</td>\n",
       "      <td>5744</td>\n",
       "    </tr>\n",
       "    <tr>\n",
       "      <th>yandex-direct</th>\n",
       "      <td>5186573.5</td>\n",
       "      <td>7043</td>\n",
       "    </tr>\n",
       "  </tbody>\n",
       "</table>\n",
       "</div>"
      ],
      "text/plain": [
       "               purchase_sum  device_id\n",
       "utm_source                            \n",
       "-                 5511400.5       7756\n",
       "facebook_ads      2237399.5       3400\n",
       "google_ads        4570341.0       6412\n",
       "instagram_ads     3346402.0       4734\n",
       "referal           1565734.0       2233\n",
       "vk_ads            4057710.5       5744\n",
       "yandex-direct     5186573.5       7043"
      ]
     },
     "execution_count": 85,
     "metadata": {},
     "output_type": "execute_result"
    }
   ],
   "source": [
    "joined = pd.merge(filtered, installed, left_on='device_id', right_on='device_id')\n",
    "grouped = joined[(joined.mindate == joined.date)].groupby('utm_source').agg({\"purchase_sum\": \"sum\", \"device_id\": \"nunique\"})\n",
    "grouped"
   ]
  },
  {
   "cell_type": "code",
   "execution_count": 66,
   "metadata": {},
   "outputs": [],
   "source": [
    "data = pd.read_csv('SF_case_data.csv')\n",
    "data = data[(data.date < '2020-04-01')]"
   ]
  },
  {
   "cell_type": "code",
   "execution_count": 67,
   "metadata": {},
   "outputs": [],
   "source": [
    "filtered = data[(data.event == 'purchase')].copy()"
   ]
  },
  {
   "cell_type": "code",
   "execution_count": 82,
   "metadata": {},
   "outputs": [
    {
     "data": {
      "text/html": [
       "<div>\n",
       "<style scoped>\n",
       "    .dataframe tbody tr th:only-of-type {\n",
       "        vertical-align: middle;\n",
       "    }\n",
       "\n",
       "    .dataframe tbody tr th {\n",
       "        vertical-align: top;\n",
       "    }\n",
       "\n",
       "    .dataframe thead th {\n",
       "        text-align: right;\n",
       "    }\n",
       "</style>\n",
       "<table border=\"1\" class=\"dataframe\">\n",
       "  <thead>\n",
       "    <tr style=\"text-align: right;\">\n",
       "      <th></th>\n",
       "      <th>utm_source</th>\n",
       "      <th>purchase_sum</th>\n",
       "      <th>device_id</th>\n",
       "    </tr>\n",
       "  </thead>\n",
       "  <tbody>\n",
       "    <tr>\n",
       "      <th>0</th>\n",
       "      <td>-</td>\n",
       "      <td>21449749.5</td>\n",
       "      <td>16598</td>\n",
       "    </tr>\n",
       "    <tr>\n",
       "      <th>5</th>\n",
       "      <td>vk_ads</td>\n",
       "      <td>16389652.5</td>\n",
       "      <td>12364</td>\n",
       "    </tr>\n",
       "    <tr>\n",
       "      <th>3</th>\n",
       "      <td>instagram_ads</td>\n",
       "      <td>14546969.0</td>\n",
       "      <td>10762</td>\n",
       "    </tr>\n",
       "    <tr>\n",
       "      <th>6</th>\n",
       "      <td>yandex-direct</td>\n",
       "      <td>13915368.0</td>\n",
       "      <td>12028</td>\n",
       "    </tr>\n",
       "    <tr>\n",
       "      <th>2</th>\n",
       "      <td>google_ads</td>\n",
       "      <td>12868276.0</td>\n",
       "      <td>11339</td>\n",
       "    </tr>\n",
       "    <tr>\n",
       "      <th>1</th>\n",
       "      <td>facebook_ads</td>\n",
       "      <td>12249901.0</td>\n",
       "      <td>9017</td>\n",
       "    </tr>\n",
       "    <tr>\n",
       "      <th>4</th>\n",
       "      <td>referal</td>\n",
       "      <td>8837044.5</td>\n",
       "      <td>6362</td>\n",
       "    </tr>\n",
       "  </tbody>\n",
       "</table>\n",
       "</div>"
      ],
      "text/plain": [
       "      utm_source  purchase_sum  device_id\n",
       "0              -    21449749.5      16598\n",
       "5         vk_ads    16389652.5      12364\n",
       "3  instagram_ads    14546969.0      10762\n",
       "6  yandex-direct    13915368.0      12028\n",
       "2     google_ads    12868276.0      11339\n",
       "1   facebook_ads    12249901.0       9017\n",
       "4        referal     8837044.5       6362"
      ]
     },
     "execution_count": 82,
     "metadata": {},
     "output_type": "execute_result"
    }
   ],
   "source": [
    "filtered.groupby('utm_source').agg({\"purchase_sum\": \"sum\", \"device_id\": \"nunique\"}).reset_index().sort_values('purchase_sum', ascending=False)"
   ]
  },
  {
   "cell_type": "code",
   "execution_count": 86,
   "metadata": {},
   "outputs": [
    {
     "data": {
      "text/plain": [
       "446600"
      ]
     },
     "execution_count": 86,
     "metadata": {},
     "output_type": "execute_result"
    }
   ],
   "source": [
    "#2233*200\n",
    "#\n",
    "#Яндекс\t10 491 707 руб.\n",
    "#Гугл\t10 534 878 руб.\n",
    "#Фейсбук\t8 590 498 руб.\n",
    "#Инстаграм\t8 561626 руб.\n",
    "#ВК\t9 553 531 руб."
   ]
  },
  {
   "cell_type": "code",
   "execution_count": 13,
   "metadata": {},
   "outputs": [],
   "source": [
    "import pandas as pd\n",
    "l = [\n",
    "    ['Реферальная программа', 8837044 - 2233*200],\n",
    "    ['Яндекс', 13915368.0 - 10491707], \n",
    "    ['Гугл', 12868276.0 - 10534878], \n",
    "    ['Фейсбук', 12249901.0 - 8590498], \n",
    "    ['Инстаграмм', 14546969.0 - 8561626], \n",
    "    ['ВК', 16389652.5 - 9553531], \n",
    "]\n",
    "\n",
    "f = pd.DataFrame(l, columns=['Канал', 'ROMI'])\n",
    "f.index.name = 'id'\n",
    "f.sort_values('ROMI', ascending=False)\n",
    "f.to_csv('romi.csv')"
   ]
  },
  {
   "cell_type": "code",
   "execution_count": null,
   "metadata": {},
   "outputs": [],
   "source": [
    "8390444\n",
    "3423661.0\n",
    "2333398.0\n",
    "3659403.0\n",
    "5985343.0\n",
    "6836121.5"
   ]
  }
 ],
 "metadata": {
  "kernelspec": {
   "display_name": "Python 3",
   "language": "python",
   "name": "python3"
  },
  "language_info": {
   "codemirror_mode": {
    "name": "ipython",
    "version": 3
   },
   "file_extension": ".py",
   "mimetype": "text/x-python",
   "name": "python",
   "nbconvert_exporter": "python",
   "pygments_lexer": "ipython3",
   "version": "3.8.2"
  }
 },
 "nbformat": 4,
 "nbformat_minor": 4
}
